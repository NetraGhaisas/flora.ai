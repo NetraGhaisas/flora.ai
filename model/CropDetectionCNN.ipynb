{
  "nbformat": 4,
  "nbformat_minor": 0,
  "metadata": {
    "colab": {
      "name": "CropDetectionCNN.ipynb",
      "provenance": [],
      "collapsed_sections": [],
      "toc_visible": true,
      "machine_shape": "hm"
    },
    "kernelspec": {
      "name": "python3",
      "display_name": "Python 3",
      "language": "python"
    },
    "accelerator": "TPU"
  },
  "cells": [
    {
      "cell_type": "markdown",
      "metadata": {
        "id": "OfFBnKTf3bHd",
        "colab_type": "text"
      },
      "source": [
        "### Crop Detection Model in Convolutional Neural Network"
      ]
    },
    {
      "cell_type": "code",
      "metadata": {
        "id": "X6s2JKwp3f85",
        "colab_type": "code",
        "colab": {}
      },
      "source": [
        "import numpy as np \n",
        "import pandas as pd \n",
        "import matplotlib.pyplot as plt\n",
        "import matplotlib.image as mpimg\n",
        "import tensorflow as tf\n",
        "from tensorflow.keras.preprocessing.image import ImageDataGenerator\n",
        "#from tensorflow.keras.preprocessing.image import img_to_array, load_img\n",
        "#import random"
      ],
      "execution_count": 2,
      "outputs": []
    },
    {
      "cell_type": "code",
      "metadata": {
        "id": "zxnjN9XXC_mA",
        "colab_type": "code",
        "colab": {}
      },
      "source": [
        "TRAINING_DIR = \"Dataset/Train\" \n",
        "\n",
        "training_datagen = ImageDataGenerator(\n",
        "    rescale = 1./255,\n",
        "    rotation_range=360,\n",
        "    width_shift_range=1,\n",
        "    height_shift_range=0.2,\n",
        "    shear_range=0.2,\n",
        "    zoom_range=0.5,\n",
        "    horizontal_flip=True,\n",
        "    fill_mode='nearest')"
      ],
      "execution_count": 3,
      "outputs": []
    },
    {
      "cell_type": "code",
      "metadata": {
        "id": "3B2Pnm9Y5AIt",
        "colab_type": "code",
        "colab": {}
      },
      "source": [
        "class_names = ['Bajra','Cotton','Grape','Jowar','Maize','Millet','Peas','Rice','Tea','Wheat']"
      ],
      "execution_count": 4,
      "outputs": []
    },
    {
      "cell_type": "code",
      "metadata": {
        "id": "zBnBqxx4Pb3K",
        "colab_type": "code",
        "outputId": "a60819e7-0bae-4dd2-a2da-aa087264133f",
        "colab": {
          "base_uri": "https://localhost:8080/",
          "height": 51
        }
      },
      "source": [
        "VALIDATION_DIR = \"Dataset/Validation\"\n",
        "\n",
        "validation_datagen = ImageDataGenerator(\n",
        "    rescale = 1./255,\n",
        "    rotation_range=360,\n",
        "    width_shift_range=1,\n",
        "    height_shift_range=1,\n",
        "    shear_range=1,\n",
        "    zoom_range=1,\n",
        "    horizontal_flip=True,\n",
        "    fill_mode='nearest')"
      ],
      "execution_count": 5,
      "outputs": []
    },
    {
      "cell_type": "markdown",
      "metadata": {
        "id": "mW9j8edD5xyU",
        "colab_type": "text"
      },
      "source": [
        "### Add Convolution, Pooling and Dense Layers"
      ]
    },
    {
      "cell_type": "code",
      "metadata": {
        "id": "usZ6S18a5-S7",
        "colab_type": "code",
        "outputId": "e78ca89b-da8f-46f7-dc29-ae4a773e3278",
        "colab": {
          "base_uri": "https://localhost:8080/",
          "height": 88
        }
      },
      "source": [
        "model = tf.keras.models.Sequential([\n",
        "\n",
        "    tf.keras.layers.Conv2D(64, (3,3), activation='relu', input_shape=(255, 255, 3)),\n",
        "    tf.keras.layers.MaxPooling2D(2, 2),\n",
        "\n",
        "    tf.keras.layers.Conv2D(64, (3,3), activation='relu'),\n",
        "    tf.keras.layers.MaxPooling2D(2,2),\n",
        "\n",
        "    tf.keras.layers.Conv2D(128, (3,3), activation='relu'),\n",
        "    tf.keras.layers.MaxPooling2D(2,2),\n",
        "\n",
        "    tf.keras.layers.Conv2D(128, (3,3), activation='relu'),\n",
        "    tf.keras.layers.MaxPooling2D(2,2),\n",
        "\n",
        "    tf.keras.layers.Flatten(),\n",
        "    tf.keras.layers.Dropout(0.5),\n",
        "\n",
        "    tf.keras.layers.Dense(512, activation='relu'),\n",
        "\n",
        "    tf.keras.layers.Dense(9, activation='softmax')\n",
        "])"
      ],
      "execution_count": 18,
      "outputs": []
    },
    {
      "cell_type": "code",
      "metadata": {
        "id": "AX5mR-RH6LH4",
        "colab_type": "code",
        "outputId": "7b005f62-a639-4927-f854-d3b4130858bd",
        "colab": {
          "base_uri": "https://localhost:8080/",
          "height": 561
        }
      },
      "source": [
        "model.summary()"
      ],
      "execution_count": 19,
      "outputs": [
        {
          "output_type": "stream",
          "name": "stdout",
          "text": [
            "Model: \"sequential_1\"\n_________________________________________________________________\nLayer (type)                 Output Shape              Param #   \n=================================================================\nconv2d_4 (Conv2D)            (None, 253, 253, 64)      1792      \n_________________________________________________________________\nmax_pooling2d_4 (MaxPooling2 (None, 126, 126, 64)      0         \n_________________________________________________________________\nconv2d_5 (Conv2D)            (None, 124, 124, 64)      36928     \n_________________________________________________________________\nmax_pooling2d_5 (MaxPooling2 (None, 62, 62, 64)        0         \n_________________________________________________________________\nconv2d_6 (Conv2D)            (None, 60, 60, 128)       73856     \n_________________________________________________________________\nmax_pooling2d_6 (MaxPooling2 (None, 30, 30, 128)       0         \n_________________________________________________________________\nconv2d_7 (Conv2D)            (None, 28, 28, 128)       147584    \n_________________________________________________________________\nmax_pooling2d_7 (MaxPooling2 (None, 14, 14, 128)       0         \n_________________________________________________________________\nflatten_1 (Flatten)          (None, 25088)             0         \n_________________________________________________________________\ndropout_1 (Dropout)          (None, 25088)             0         \n_________________________________________________________________\ndense_2 (Dense)              (None, 512)               12845568  \n_________________________________________________________________\ndense_3 (Dense)              (None, 9)                 4617      \n=================================================================\nTotal params: 13,110,345\nTrainable params: 13,110,345\nNon-trainable params: 0\n_________________________________________________________________\n"
          ]
        }
      ]
    },
    {
      "cell_type": "code",
      "metadata": {
        "id": "9uRXwmq36XHy",
        "colab_type": "code",
        "colab": {}
      },
      "source": [
        "model.compile(loss = 'categorical_crossentropy', optimizer='rmsprop', metrics=['accuracy'])"
      ],
      "execution_count": 21,
      "outputs": []
    },
    {
      "cell_type": "code",
      "metadata": {
        "id": "6ONM-VkP6m5P",
        "colab_type": "code",
        "colab": {}
      },
      "source": [
        "history = model.fit_generator(train_generator, epochs=10, validation_data = validation_generator, verbose = 1)"
      ],
      "execution_count": 20,
      "outputs": []
    },
    {
      "cell_type": "code",
      "metadata": {
        "id": "GFfiWA13lMV_",
        "colab_type": "code",
        "colab": {}
      },
      "source": [
        "model.save(\"model.h5\")"
      ],
      "execution_count": 23,
      "outputs": []
    },
    {
      "cell_type": "code",
      "execution_count": null,
      "metadata": {},
      "outputs": [],
      "source": [
        "acc = history.history['acc']\n",
        "val_acc = history.history['val_acc']\n",
        "loss = history.history['loss']\n",
        "val_loss = history.history['val_loss']\n",
        "\n",
        "epochs = range(len(acc))\n",
        "\n",
        "plt.plot(epochs, acc, 'r', label='Training accuracy')\n",
        "plt.plot(epochs, val_acc, 'b', label='Validation accuracy')\n",
        "plt.title('Training and validation accuracy')\n",
        "plt.legend(loc=0)\n",
        "plt.figure()\n",
        "plt.show()"
      ]
    }
  ]
}